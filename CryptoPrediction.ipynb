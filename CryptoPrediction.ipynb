{
  "nbformat": 4,
  "nbformat_minor": 0,
  "metadata": {
    "colab": {
      "provenance": [],
      "authorship_tag": "ABX9TyOg1jMElGwjNHSXJRgh6Jgy",
      "include_colab_link": true
    },
    "kernelspec": {
      "name": "python3",
      "display_name": "Python 3"
    },
    "language_info": {
      "name": "python"
    }
  },
  "cells": [
    {
      "cell_type": "markdown",
      "metadata": {
        "id": "view-in-github",
        "colab_type": "text"
      },
      "source": [
        "<a href=\"https://colab.research.google.com/github/abhishekar18/Cryptocurrency-Prediction-using-LSTM/blob/main/CryptoPrediction.ipynb\" target=\"_parent\"><img src=\"https://colab.research.google.com/assets/colab-badge.svg\" alt=\"Open In Colab\"/></a>"
      ]
    },
    {
      "cell_type": "code",
      "execution_count": null,
      "metadata": {
        "colab": {
          "base_uri": "https://localhost:8080/"
        },
        "id": "_GQ4VjrjyTVa",
        "outputId": "12aa88e4-1063-476d-bc38-0e23cc50f225"
      },
      "outputs": [
        {
          "output_type": "stream",
          "name": "stdout",
          "text": [
            "Colab only includes TensorFlow 2.x; %tensorflow_version has no effect.\n"
          ]
        }
      ],
      "source": [
        "%tensorflow_version 2.x\n",
        "import json\n",
        "import requests\n",
        "from keras.models import Sequential\n",
        "from keras.layers import Activation, Dense, Dropout, LSTM\n",
        "import matplotlib.pyplot as plt\n",
        "import numpy as np\n",
        "import pandas as pd\n",
        "import seaborn as sns\n",
        "from sklearn.metrics import mean_absolute_error\n",
        "%matplotlib inline"
      ]
    },
    {
      "cell_type": "code",
      "source": [
        "cryp = input(\"Enter the cryptocurrency code \")\n",
        "curr = input(\"Enter the currency code \")\n",
        "cur1=curr.upper()\n",
        "curr = \"?fsym=\"+cryp+\"&tsym=\"+curr+\"&limit=500\"\n",
        "endpoint = 'https://min-api.cryptocompare.com/data/histoday'\n",
        "res = requests.get(endpoint + curr)\n",
        "hist = pd.DataFrame(json.loads(res.content)['Data'])\n",
        "hist = hist.set_index('time')\n",
        "hist.index = pd.to_datetime(hist.index, unit='s')\n",
        "target_col = 'close'"
      ],
      "metadata": {
        "id": "wzGvBBUmycsI",
        "colab": {
          "base_uri": "https://localhost:8080/"
        },
        "outputId": "0183111c-b3bc-49ef-afa1-2419fabc8235"
      },
      "execution_count": null,
      "outputs": [
        {
          "name": "stdout",
          "output_type": "stream",
          "text": [
            "Enter the cryptocurrency code BTC\n",
            "Enter the currency code INR\n"
          ]
        }
      ]
    },
    {
      "cell_type": "code",
      "source": [
        "hist.drop([\"conversionType\", \"conversionSymbol\"], axis = 'columns', inplace = True)"
      ],
      "metadata": {
        "id": "cwawPrI0ygB1"
      },
      "execution_count": null,
      "outputs": []
    },
    {
      "cell_type": "code",
      "source": [
        "hist.head(50)"
      ],
      "metadata": {
        "colab": {
          "base_uri": "https://localhost:8080/",
          "height": 1000
        },
        "id": "Jzup9qeHyh9X",
        "outputId": "cd0579f6-278c-4ef8-cf46-fa0a7be00007"
      },
      "execution_count": null,
      "outputs": [
        {
          "output_type": "execute_result",
          "data": {
            "text/plain": [
              "                  high         low        open  volumefrom     volumeto  \\\n",
              "time                                                                      \n",
              "2021-07-02  3709886.85  2230400.00  2769989.32       3.456   9065714.44   \n",
              "2021-07-03  4248969.87  2260152.61  2800022.40       4.068  10599065.70   \n",
              "2021-07-04  5540012.74  2315234.04  2761103.78       3.321   8947812.01   \n",
              "2021-07-05  3977091.95  2248605.86  2755230.81       4.720  12541176.09   \n",
              "2021-07-06  3337324.22  2323314.81  2531030.43       3.763  10081309.57   \n",
              "2021-07-07  3643889.93  2341365.47  2697919.36       4.736  12539907.47   \n",
              "2021-07-08  4030004.70  2182238.76  2594495.69       4.069  10492468.25   \n",
              "2021-07-09  6391001.47  2209586.66  2490101.28       3.594   9401014.20   \n",
              "2021-07-10  5540012.74  2259754.23  2743986.10       2.595   6854073.74   \n",
              "2021-07-11  4051876.49  2246312.68  2719002.02       2.892   7592504.47   \n",
              "2021-07-12  3361768.29  2204723.13  2579902.69       3.599   9325194.51   \n",
              "2021-07-13  3439448.51  2181722.98  2684997.79       3.897  10073973.83   \n",
              "2021-07-14  3098997.47  2138430.59  2758290.96       4.911  12274693.14   \n",
              "2021-07-15  3054906.86  2182981.91  2482005.46       3.839   9759086.66   \n",
              "2021-07-16  5299000.37  2093837.42  2575210.98       3.319   8238805.77   \n",
              "2021-07-17  2995011.17  2106553.70  2570000.00       5.504  13392693.07   \n",
              "2021-07-18  5298995.84  2336504.40  2639999.16       2.401   5928990.29   \n",
              "2021-07-19  3790822.42  1375705.05  2533805.18       3.713   9125862.32   \n",
              "2021-07-20  3548150.17  1995126.86  2473992.16       3.709   8764247.02   \n",
              "2021-07-21  3451274.90  2043026.13  2445374.65       5.965  14344547.22   \n",
              "2021-07-22  3078000.00  2128067.08  2412200.83       2.805   6997836.90   \n",
              "2021-07-23  5254688.17  2174820.79  2556008.54       3.529   8882633.10   \n",
              "2021-07-24  3231992.42  2249247.84  2443100.20       3.225   8363703.75   \n",
              "2021-07-25  3079440.37  2282401.54  2676000.56       2.046   5416100.95   \n",
              "2021-07-26  3525396.96  2307972.67  2717000.00       3.442  10047571.26   \n",
              "2021-07-27  3598675.69  2159018.48  2992891.88       4.007  11597848.30   \n",
              "2021-07-28  3709886.85  2665067.63  2853163.39       4.033  12246987.44   \n",
              "2021-07-29  4769895.89  2400000.00  3568879.37       3.725  11390438.11   \n",
              "2021-07-30  4713646.01  2615555.23  2959999.50       3.685  11156302.89   \n",
              "2021-07-31  3964999.49  2772348.60  3255002.31       2.268   7274533.63   \n",
              "2021-08-01  3912363.07  2150000.00  3398990.50       1.949   6150654.66   \n",
              "2021-08-02  4705411.81  2158971.61  3283985.97       2.716   8327262.93   \n",
              "2021-08-03  3699319.33  2569131.03  3150797.15       4.662  13779999.87   \n",
              "2021-08-04  3897997.21  2528432.22  3127988.35       3.987  11733564.08   \n",
              "2021-08-05  3581948.43  2540314.80  3188700.00       2.634   7870402.39   \n",
              "2021-08-06  5036108.90  2742731.76  3039081.95       3.150   9904330.08   \n",
              "2021-08-07  5151569.48   339180.10  3304692.66       2.710   8793238.68   \n",
              "2021-08-08  4320550.27  2589999.08  3369998.92       2.799   9280598.40   \n",
              "2021-08-09  5254676.66  2590001.62  3408509.91       2.446   8390893.01   \n",
              "2021-08-10  5485704.25  2028628.82  3419998.90       3.019  10384910.89   \n",
              "2021-08-11  4453893.30  3054566.78  3840868.55       2.398   8346276.43   \n",
              "2021-08-12  4189990.95  2820022.16  3580794.75       2.610   8998387.34   \n",
              "2021-08-13  4478683.09  2820004.16  3305999.10       3.417  11938870.96   \n",
              "2021-08-14  4421599.51  2400000.00  4421599.51       2.223   8057412.93   \n",
              "2021-08-15  4190997.74  3069386.55  3716000.00       1.976   7072706.89   \n",
              "2021-08-16  4559998.18  2590002.59  3664793.55       3.033  10922375.07   \n",
              "2021-08-17  4435599.53  3080000.00  3719961.31       2.951  10678154.54   \n",
              "2021-08-18  5358959.01  2965110.50  3848966.55       2.747   9823958.05   \n",
              "2021-08-19  4243005.41  2589906.76  3478000.37       2.768   9797129.74   \n",
              "2021-08-20  5610996.22  2880516.19  3515000.26       2.913  10555999.18   \n",
              "\n",
              "                 close  \n",
              "time                    \n",
              "2021-07-02  2800022.40  \n",
              "2021-07-03  2761103.78  \n",
              "2021-07-04  2755230.81  \n",
              "2021-07-05  2531030.43  \n",
              "2021-07-06  2697919.36  \n",
              "2021-07-07  2594495.69  \n",
              "2021-07-08  2490101.28  \n",
              "2021-07-09  2743986.10  \n",
              "2021-07-10  2719002.02  \n",
              "2021-07-11  2579902.69  \n",
              "2021-07-12  2684997.79  \n",
              "2021-07-13  2758290.96  \n",
              "2021-07-14  2482005.46  \n",
              "2021-07-15  2575210.98  \n",
              "2021-07-16  2570000.00  \n",
              "2021-07-17  2639999.16  \n",
              "2021-07-18  2533805.18  \n",
              "2021-07-19  2473992.16  \n",
              "2021-07-20  2445374.65  \n",
              "2021-07-21  2412200.83  \n",
              "2021-07-22  2556008.54  \n",
              "2021-07-23  2443100.20  \n",
              "2021-07-24  2676000.56  \n",
              "2021-07-25  2717000.00  \n",
              "2021-07-26  2992891.88  \n",
              "2021-07-27  2853163.39  \n",
              "2021-07-28  3568879.37  \n",
              "2021-07-29  2959999.50  \n",
              "2021-07-30  3255002.31  \n",
              "2021-07-31  3398990.50  \n",
              "2021-08-01  3283985.97  \n",
              "2021-08-02  3150797.15  \n",
              "2021-08-03  3127988.35  \n",
              "2021-08-04  3188700.00  \n",
              "2021-08-05  3039081.95  \n",
              "2021-08-06  3304692.66  \n",
              "2021-08-07  3369998.92  \n",
              "2021-08-08  3408509.91  \n",
              "2021-08-09  3419998.90  \n",
              "2021-08-10  3840868.55  \n",
              "2021-08-11  3580794.75  \n",
              "2021-08-12  3305999.10  \n",
              "2021-08-13  4421599.51  \n",
              "2021-08-14  3716000.00  \n",
              "2021-08-15  3664793.55  \n",
              "2021-08-16  3719961.31  \n",
              "2021-08-17  3848966.55  \n",
              "2021-08-18  3478000.37  \n",
              "2021-08-19  3515000.26  \n",
              "2021-08-20  3818032.57  "
            ],
            "text/html": [
              "\n",
              "  <div id=\"df-1652b057-7662-461a-8fe9-557812f75081\">\n",
              "    <div class=\"colab-df-container\">\n",
              "      <div>\n",
              "<style scoped>\n",
              "    .dataframe tbody tr th:only-of-type {\n",
              "        vertical-align: middle;\n",
              "    }\n",
              "\n",
              "    .dataframe tbody tr th {\n",
              "        vertical-align: top;\n",
              "    }\n",
              "\n",
              "    .dataframe thead th {\n",
              "        text-align: right;\n",
              "    }\n",
              "</style>\n",
              "<table border=\"1\" class=\"dataframe\">\n",
              "  <thead>\n",
              "    <tr style=\"text-align: right;\">\n",
              "      <th></th>\n",
              "      <th>high</th>\n",
              "      <th>low</th>\n",
              "      <th>open</th>\n",
              "      <th>volumefrom</th>\n",
              "      <th>volumeto</th>\n",
              "      <th>close</th>\n",
              "    </tr>\n",
              "    <tr>\n",
              "      <th>time</th>\n",
              "      <th></th>\n",
              "      <th></th>\n",
              "      <th></th>\n",
              "      <th></th>\n",
              "      <th></th>\n",
              "      <th></th>\n",
              "    </tr>\n",
              "  </thead>\n",
              "  <tbody>\n",
              "    <tr>\n",
              "      <th>2021-07-02</th>\n",
              "      <td>3709886.85</td>\n",
              "      <td>2230400.00</td>\n",
              "      <td>2769989.32</td>\n",
              "      <td>3.456</td>\n",
              "      <td>9065714.44</td>\n",
              "      <td>2800022.40</td>\n",
              "    </tr>\n",
              "    <tr>\n",
              "      <th>2021-07-03</th>\n",
              "      <td>4248969.87</td>\n",
              "      <td>2260152.61</td>\n",
              "      <td>2800022.40</td>\n",
              "      <td>4.068</td>\n",
              "      <td>10599065.70</td>\n",
              "      <td>2761103.78</td>\n",
              "    </tr>\n",
              "    <tr>\n",
              "      <th>2021-07-04</th>\n",
              "      <td>5540012.74</td>\n",
              "      <td>2315234.04</td>\n",
              "      <td>2761103.78</td>\n",
              "      <td>3.321</td>\n",
              "      <td>8947812.01</td>\n",
              "      <td>2755230.81</td>\n",
              "    </tr>\n",
              "    <tr>\n",
              "      <th>2021-07-05</th>\n",
              "      <td>3977091.95</td>\n",
              "      <td>2248605.86</td>\n",
              "      <td>2755230.81</td>\n",
              "      <td>4.720</td>\n",
              "      <td>12541176.09</td>\n",
              "      <td>2531030.43</td>\n",
              "    </tr>\n",
              "    <tr>\n",
              "      <th>2021-07-06</th>\n",
              "      <td>3337324.22</td>\n",
              "      <td>2323314.81</td>\n",
              "      <td>2531030.43</td>\n",
              "      <td>3.763</td>\n",
              "      <td>10081309.57</td>\n",
              "      <td>2697919.36</td>\n",
              "    </tr>\n",
              "    <tr>\n",
              "      <th>2021-07-07</th>\n",
              "      <td>3643889.93</td>\n",
              "      <td>2341365.47</td>\n",
              "      <td>2697919.36</td>\n",
              "      <td>4.736</td>\n",
              "      <td>12539907.47</td>\n",
              "      <td>2594495.69</td>\n",
              "    </tr>\n",
              "    <tr>\n",
              "      <th>2021-07-08</th>\n",
              "      <td>4030004.70</td>\n",
              "      <td>2182238.76</td>\n",
              "      <td>2594495.69</td>\n",
              "      <td>4.069</td>\n",
              "      <td>10492468.25</td>\n",
              "      <td>2490101.28</td>\n",
              "    </tr>\n",
              "    <tr>\n",
              "      <th>2021-07-09</th>\n",
              "      <td>6391001.47</td>\n",
              "      <td>2209586.66</td>\n",
              "      <td>2490101.28</td>\n",
              "      <td>3.594</td>\n",
              "      <td>9401014.20</td>\n",
              "      <td>2743986.10</td>\n",
              "    </tr>\n",
              "    <tr>\n",
              "      <th>2021-07-10</th>\n",
              "      <td>5540012.74</td>\n",
              "      <td>2259754.23</td>\n",
              "      <td>2743986.10</td>\n",
              "      <td>2.595</td>\n",
              "      <td>6854073.74</td>\n",
              "      <td>2719002.02</td>\n",
              "    </tr>\n",
              "    <tr>\n",
              "      <th>2021-07-11</th>\n",
              "      <td>4051876.49</td>\n",
              "      <td>2246312.68</td>\n",
              "      <td>2719002.02</td>\n",
              "      <td>2.892</td>\n",
              "      <td>7592504.47</td>\n",
              "      <td>2579902.69</td>\n",
              "    </tr>\n",
              "    <tr>\n",
              "      <th>2021-07-12</th>\n",
              "      <td>3361768.29</td>\n",
              "      <td>2204723.13</td>\n",
              "      <td>2579902.69</td>\n",
              "      <td>3.599</td>\n",
              "      <td>9325194.51</td>\n",
              "      <td>2684997.79</td>\n",
              "    </tr>\n",
              "    <tr>\n",
              "      <th>2021-07-13</th>\n",
              "      <td>3439448.51</td>\n",
              "      <td>2181722.98</td>\n",
              "      <td>2684997.79</td>\n",
              "      <td>3.897</td>\n",
              "      <td>10073973.83</td>\n",
              "      <td>2758290.96</td>\n",
              "    </tr>\n",
              "    <tr>\n",
              "      <th>2021-07-14</th>\n",
              "      <td>3098997.47</td>\n",
              "      <td>2138430.59</td>\n",
              "      <td>2758290.96</td>\n",
              "      <td>4.911</td>\n",
              "      <td>12274693.14</td>\n",
              "      <td>2482005.46</td>\n",
              "    </tr>\n",
              "    <tr>\n",
              "      <th>2021-07-15</th>\n",
              "      <td>3054906.86</td>\n",
              "      <td>2182981.91</td>\n",
              "      <td>2482005.46</td>\n",
              "      <td>3.839</td>\n",
              "      <td>9759086.66</td>\n",
              "      <td>2575210.98</td>\n",
              "    </tr>\n",
              "    <tr>\n",
              "      <th>2021-07-16</th>\n",
              "      <td>5299000.37</td>\n",
              "      <td>2093837.42</td>\n",
              "      <td>2575210.98</td>\n",
              "      <td>3.319</td>\n",
              "      <td>8238805.77</td>\n",
              "      <td>2570000.00</td>\n",
              "    </tr>\n",
              "    <tr>\n",
              "      <th>2021-07-17</th>\n",
              "      <td>2995011.17</td>\n",
              "      <td>2106553.70</td>\n",
              "      <td>2570000.00</td>\n",
              "      <td>5.504</td>\n",
              "      <td>13392693.07</td>\n",
              "      <td>2639999.16</td>\n",
              "    </tr>\n",
              "    <tr>\n",
              "      <th>2021-07-18</th>\n",
              "      <td>5298995.84</td>\n",
              "      <td>2336504.40</td>\n",
              "      <td>2639999.16</td>\n",
              "      <td>2.401</td>\n",
              "      <td>5928990.29</td>\n",
              "      <td>2533805.18</td>\n",
              "    </tr>\n",
              "    <tr>\n",
              "      <th>2021-07-19</th>\n",
              "      <td>3790822.42</td>\n",
              "      <td>1375705.05</td>\n",
              "      <td>2533805.18</td>\n",
              "      <td>3.713</td>\n",
              "      <td>9125862.32</td>\n",
              "      <td>2473992.16</td>\n",
              "    </tr>\n",
              "    <tr>\n",
              "      <th>2021-07-20</th>\n",
              "      <td>3548150.17</td>\n",
              "      <td>1995126.86</td>\n",
              "      <td>2473992.16</td>\n",
              "      <td>3.709</td>\n",
              "      <td>8764247.02</td>\n",
              "      <td>2445374.65</td>\n",
              "    </tr>\n",
              "    <tr>\n",
              "      <th>2021-07-21</th>\n",
              "      <td>3451274.90</td>\n",
              "      <td>2043026.13</td>\n",
              "      <td>2445374.65</td>\n",
              "      <td>5.965</td>\n",
              "      <td>14344547.22</td>\n",
              "      <td>2412200.83</td>\n",
              "    </tr>\n",
              "    <tr>\n",
              "      <th>2021-07-22</th>\n",
              "      <td>3078000.00</td>\n",
              "      <td>2128067.08</td>\n",
              "      <td>2412200.83</td>\n",
              "      <td>2.805</td>\n",
              "      <td>6997836.90</td>\n",
              "      <td>2556008.54</td>\n",
              "    </tr>\n",
              "    <tr>\n",
              "      <th>2021-07-23</th>\n",
              "      <td>5254688.17</td>\n",
              "      <td>2174820.79</td>\n",
              "      <td>2556008.54</td>\n",
              "      <td>3.529</td>\n",
              "      <td>8882633.10</td>\n",
              "      <td>2443100.20</td>\n",
              "    </tr>\n",
              "    <tr>\n",
              "      <th>2021-07-24</th>\n",
              "      <td>3231992.42</td>\n",
              "      <td>2249247.84</td>\n",
              "      <td>2443100.20</td>\n",
              "      <td>3.225</td>\n",
              "      <td>8363703.75</td>\n",
              "      <td>2676000.56</td>\n",
              "    </tr>\n",
              "    <tr>\n",
              "      <th>2021-07-25</th>\n",
              "      <td>3079440.37</td>\n",
              "      <td>2282401.54</td>\n",
              "      <td>2676000.56</td>\n",
              "      <td>2.046</td>\n",
              "      <td>5416100.95</td>\n",
              "      <td>2717000.00</td>\n",
              "    </tr>\n",
              "    <tr>\n",
              "      <th>2021-07-26</th>\n",
              "      <td>3525396.96</td>\n",
              "      <td>2307972.67</td>\n",
              "      <td>2717000.00</td>\n",
              "      <td>3.442</td>\n",
              "      <td>10047571.26</td>\n",
              "      <td>2992891.88</td>\n",
              "    </tr>\n",
              "    <tr>\n",
              "      <th>2021-07-27</th>\n",
              "      <td>3598675.69</td>\n",
              "      <td>2159018.48</td>\n",
              "      <td>2992891.88</td>\n",
              "      <td>4.007</td>\n",
              "      <td>11597848.30</td>\n",
              "      <td>2853163.39</td>\n",
              "    </tr>\n",
              "    <tr>\n",
              "      <th>2021-07-28</th>\n",
              "      <td>3709886.85</td>\n",
              "      <td>2665067.63</td>\n",
              "      <td>2853163.39</td>\n",
              "      <td>4.033</td>\n",
              "      <td>12246987.44</td>\n",
              "      <td>3568879.37</td>\n",
              "    </tr>\n",
              "    <tr>\n",
              "      <th>2021-07-29</th>\n",
              "      <td>4769895.89</td>\n",
              "      <td>2400000.00</td>\n",
              "      <td>3568879.37</td>\n",
              "      <td>3.725</td>\n",
              "      <td>11390438.11</td>\n",
              "      <td>2959999.50</td>\n",
              "    </tr>\n",
              "    <tr>\n",
              "      <th>2021-07-30</th>\n",
              "      <td>4713646.01</td>\n",
              "      <td>2615555.23</td>\n",
              "      <td>2959999.50</td>\n",
              "      <td>3.685</td>\n",
              "      <td>11156302.89</td>\n",
              "      <td>3255002.31</td>\n",
              "    </tr>\n",
              "    <tr>\n",
              "      <th>2021-07-31</th>\n",
              "      <td>3964999.49</td>\n",
              "      <td>2772348.60</td>\n",
              "      <td>3255002.31</td>\n",
              "      <td>2.268</td>\n",
              "      <td>7274533.63</td>\n",
              "      <td>3398990.50</td>\n",
              "    </tr>\n",
              "    <tr>\n",
              "      <th>2021-08-01</th>\n",
              "      <td>3912363.07</td>\n",
              "      <td>2150000.00</td>\n",
              "      <td>3398990.50</td>\n",
              "      <td>1.949</td>\n",
              "      <td>6150654.66</td>\n",
              "      <td>3283985.97</td>\n",
              "    </tr>\n",
              "    <tr>\n",
              "      <th>2021-08-02</th>\n",
              "      <td>4705411.81</td>\n",
              "      <td>2158971.61</td>\n",
              "      <td>3283985.97</td>\n",
              "      <td>2.716</td>\n",
              "      <td>8327262.93</td>\n",
              "      <td>3150797.15</td>\n",
              "    </tr>\n",
              "    <tr>\n",
              "      <th>2021-08-03</th>\n",
              "      <td>3699319.33</td>\n",
              "      <td>2569131.03</td>\n",
              "      <td>3150797.15</td>\n",
              "      <td>4.662</td>\n",
              "      <td>13779999.87</td>\n",
              "      <td>3127988.35</td>\n",
              "    </tr>\n",
              "    <tr>\n",
              "      <th>2021-08-04</th>\n",
              "      <td>3897997.21</td>\n",
              "      <td>2528432.22</td>\n",
              "      <td>3127988.35</td>\n",
              "      <td>3.987</td>\n",
              "      <td>11733564.08</td>\n",
              "      <td>3188700.00</td>\n",
              "    </tr>\n",
              "    <tr>\n",
              "      <th>2021-08-05</th>\n",
              "      <td>3581948.43</td>\n",
              "      <td>2540314.80</td>\n",
              "      <td>3188700.00</td>\n",
              "      <td>2.634</td>\n",
              "      <td>7870402.39</td>\n",
              "      <td>3039081.95</td>\n",
              "    </tr>\n",
              "    <tr>\n",
              "      <th>2021-08-06</th>\n",
              "      <td>5036108.90</td>\n",
              "      <td>2742731.76</td>\n",
              "      <td>3039081.95</td>\n",
              "      <td>3.150</td>\n",
              "      <td>9904330.08</td>\n",
              "      <td>3304692.66</td>\n",
              "    </tr>\n",
              "    <tr>\n",
              "      <th>2021-08-07</th>\n",
              "      <td>5151569.48</td>\n",
              "      <td>339180.10</td>\n",
              "      <td>3304692.66</td>\n",
              "      <td>2.710</td>\n",
              "      <td>8793238.68</td>\n",
              "      <td>3369998.92</td>\n",
              "    </tr>\n",
              "    <tr>\n",
              "      <th>2021-08-08</th>\n",
              "      <td>4320550.27</td>\n",
              "      <td>2589999.08</td>\n",
              "      <td>3369998.92</td>\n",
              "      <td>2.799</td>\n",
              "      <td>9280598.40</td>\n",
              "      <td>3408509.91</td>\n",
              "    </tr>\n",
              "    <tr>\n",
              "      <th>2021-08-09</th>\n",
              "      <td>5254676.66</td>\n",
              "      <td>2590001.62</td>\n",
              "      <td>3408509.91</td>\n",
              "      <td>2.446</td>\n",
              "      <td>8390893.01</td>\n",
              "      <td>3419998.90</td>\n",
              "    </tr>\n",
              "    <tr>\n",
              "      <th>2021-08-10</th>\n",
              "      <td>5485704.25</td>\n",
              "      <td>2028628.82</td>\n",
              "      <td>3419998.90</td>\n",
              "      <td>3.019</td>\n",
              "      <td>10384910.89</td>\n",
              "      <td>3840868.55</td>\n",
              "    </tr>\n",
              "    <tr>\n",
              "      <th>2021-08-11</th>\n",
              "      <td>4453893.30</td>\n",
              "      <td>3054566.78</td>\n",
              "      <td>3840868.55</td>\n",
              "      <td>2.398</td>\n",
              "      <td>8346276.43</td>\n",
              "      <td>3580794.75</td>\n",
              "    </tr>\n",
              "    <tr>\n",
              "      <th>2021-08-12</th>\n",
              "      <td>4189990.95</td>\n",
              "      <td>2820022.16</td>\n",
              "      <td>3580794.75</td>\n",
              "      <td>2.610</td>\n",
              "      <td>8998387.34</td>\n",
              "      <td>3305999.10</td>\n",
              "    </tr>\n",
              "    <tr>\n",
              "      <th>2021-08-13</th>\n",
              "      <td>4478683.09</td>\n",
              "      <td>2820004.16</td>\n",
              "      <td>3305999.10</td>\n",
              "      <td>3.417</td>\n",
              "      <td>11938870.96</td>\n",
              "      <td>4421599.51</td>\n",
              "    </tr>\n",
              "    <tr>\n",
              "      <th>2021-08-14</th>\n",
              "      <td>4421599.51</td>\n",
              "      <td>2400000.00</td>\n",
              "      <td>4421599.51</td>\n",
              "      <td>2.223</td>\n",
              "      <td>8057412.93</td>\n",
              "      <td>3716000.00</td>\n",
              "    </tr>\n",
              "    <tr>\n",
              "      <th>2021-08-15</th>\n",
              "      <td>4190997.74</td>\n",
              "      <td>3069386.55</td>\n",
              "      <td>3716000.00</td>\n",
              "      <td>1.976</td>\n",
              "      <td>7072706.89</td>\n",
              "      <td>3664793.55</td>\n",
              "    </tr>\n",
              "    <tr>\n",
              "      <th>2021-08-16</th>\n",
              "      <td>4559998.18</td>\n",
              "      <td>2590002.59</td>\n",
              "      <td>3664793.55</td>\n",
              "      <td>3.033</td>\n",
              "      <td>10922375.07</td>\n",
              "      <td>3719961.31</td>\n",
              "    </tr>\n",
              "    <tr>\n",
              "      <th>2021-08-17</th>\n",
              "      <td>4435599.53</td>\n",
              "      <td>3080000.00</td>\n",
              "      <td>3719961.31</td>\n",
              "      <td>2.951</td>\n",
              "      <td>10678154.54</td>\n",
              "      <td>3848966.55</td>\n",
              "    </tr>\n",
              "    <tr>\n",
              "      <th>2021-08-18</th>\n",
              "      <td>5358959.01</td>\n",
              "      <td>2965110.50</td>\n",
              "      <td>3848966.55</td>\n",
              "      <td>2.747</td>\n",
              "      <td>9823958.05</td>\n",
              "      <td>3478000.37</td>\n",
              "    </tr>\n",
              "    <tr>\n",
              "      <th>2021-08-19</th>\n",
              "      <td>4243005.41</td>\n",
              "      <td>2589906.76</td>\n",
              "      <td>3478000.37</td>\n",
              "      <td>2.768</td>\n",
              "      <td>9797129.74</td>\n",
              "      <td>3515000.26</td>\n",
              "    </tr>\n",
              "    <tr>\n",
              "      <th>2021-08-20</th>\n",
              "      <td>5610996.22</td>\n",
              "      <td>2880516.19</td>\n",
              "      <td>3515000.26</td>\n",
              "      <td>2.913</td>\n",
              "      <td>10555999.18</td>\n",
              "      <td>3818032.57</td>\n",
              "    </tr>\n",
              "  </tbody>\n",
              "</table>\n",
              "</div>\n",
              "      <button class=\"colab-df-convert\" onclick=\"convertToInteractive('df-1652b057-7662-461a-8fe9-557812f75081')\"\n",
              "              title=\"Convert this dataframe to an interactive table.\"\n",
              "              style=\"display:none;\">\n",
              "        \n",
              "  <svg xmlns=\"http://www.w3.org/2000/svg\" height=\"24px\"viewBox=\"0 0 24 24\"\n",
              "       width=\"24px\">\n",
              "    <path d=\"M0 0h24v24H0V0z\" fill=\"none\"/>\n",
              "    <path d=\"M18.56 5.44l.94 2.06.94-2.06 2.06-.94-2.06-.94-.94-2.06-.94 2.06-2.06.94zm-11 1L8.5 8.5l.94-2.06 2.06-.94-2.06-.94L8.5 2.5l-.94 2.06-2.06.94zm10 10l.94 2.06.94-2.06 2.06-.94-2.06-.94-.94-2.06-.94 2.06-2.06.94z\"/><path d=\"M17.41 7.96l-1.37-1.37c-.4-.4-.92-.59-1.43-.59-.52 0-1.04.2-1.43.59L10.3 9.45l-7.72 7.72c-.78.78-.78 2.05 0 2.83L4 21.41c.39.39.9.59 1.41.59.51 0 1.02-.2 1.41-.59l7.78-7.78 2.81-2.81c.8-.78.8-2.07 0-2.86zM5.41 20L4 18.59l7.72-7.72 1.47 1.35L5.41 20z\"/>\n",
              "  </svg>\n",
              "      </button>\n",
              "      \n",
              "  <style>\n",
              "    .colab-df-container {\n",
              "      display:flex;\n",
              "      flex-wrap:wrap;\n",
              "      gap: 12px;\n",
              "    }\n",
              "\n",
              "    .colab-df-convert {\n",
              "      background-color: #E8F0FE;\n",
              "      border: none;\n",
              "      border-radius: 50%;\n",
              "      cursor: pointer;\n",
              "      display: none;\n",
              "      fill: #1967D2;\n",
              "      height: 32px;\n",
              "      padding: 0 0 0 0;\n",
              "      width: 32px;\n",
              "    }\n",
              "\n",
              "    .colab-df-convert:hover {\n",
              "      background-color: #E2EBFA;\n",
              "      box-shadow: 0px 1px 2px rgba(60, 64, 67, 0.3), 0px 1px 3px 1px rgba(60, 64, 67, 0.15);\n",
              "      fill: #174EA6;\n",
              "    }\n",
              "\n",
              "    [theme=dark] .colab-df-convert {\n",
              "      background-color: #3B4455;\n",
              "      fill: #D2E3FC;\n",
              "    }\n",
              "\n",
              "    [theme=dark] .colab-df-convert:hover {\n",
              "      background-color: #434B5C;\n",
              "      box-shadow: 0px 1px 3px 1px rgba(0, 0, 0, 0.15);\n",
              "      filter: drop-shadow(0px 1px 2px rgba(0, 0, 0, 0.3));\n",
              "      fill: #FFFFFF;\n",
              "    }\n",
              "  </style>\n",
              "\n",
              "      <script>\n",
              "        const buttonEl =\n",
              "          document.querySelector('#df-1652b057-7662-461a-8fe9-557812f75081 button.colab-df-convert');\n",
              "        buttonEl.style.display =\n",
              "          google.colab.kernel.accessAllowed ? 'block' : 'none';\n",
              "\n",
              "        async function convertToInteractive(key) {\n",
              "          const element = document.querySelector('#df-1652b057-7662-461a-8fe9-557812f75081');\n",
              "          const dataTable =\n",
              "            await google.colab.kernel.invokeFunction('convertToInteractive',\n",
              "                                                     [key], {});\n",
              "          if (!dataTable) return;\n",
              "\n",
              "          const docLinkHtml = 'Like what you see? Visit the ' +\n",
              "            '<a target=\"_blank\" href=https://colab.research.google.com/notebooks/data_table.ipynb>data table notebook</a>'\n",
              "            + ' to learn more about interactive tables.';\n",
              "          element.innerHTML = '';\n",
              "          dataTable['output_type'] = 'display_data';\n",
              "          await google.colab.output.renderOutput(dataTable, element);\n",
              "          const docLink = document.createElement('div');\n",
              "          docLink.innerHTML = docLinkHtml;\n",
              "          element.appendChild(docLink);\n",
              "        }\n",
              "      </script>\n",
              "    </div>\n",
              "  </div>\n",
              "  "
            ]
          },
          "metadata": {},
          "execution_count": 4
        }
      ]
    },
    {
      "cell_type": "code",
      "source": [
        "def train_test_split(df, test_size=0.2):\n",
        "    split_row = len(df) - int(test_size * len(df))\n",
        "    train_data = df.iloc[:split_row]\n",
        "    test_data = df.iloc[split_row:]\n",
        "    return train_data, test_data"
      ],
      "metadata": {
        "id": "KcLbam1nymUA"
      },
      "execution_count": null,
      "outputs": []
    },
    {
      "cell_type": "code",
      "source": [
        "train, test = train_test_split(hist, test_size=0.2)"
      ],
      "metadata": {
        "id": "zG9vQriIytFk"
      },
      "execution_count": null,
      "outputs": []
    },
    {
      "cell_type": "code",
      "source": [
        "def line_plot(line1, line2, label1=None, label2=None, title='', lw=2):\n",
        "    fig, ax = plt.subplots(1, figsize=(13, 7))\n",
        "    ax.plot(line1, label=label1, linewidth=lw)\n",
        "    ax.plot(line2, label=label2, linewidth=lw)\n",
        "    ax.set_ylabel('price ['+cur1+']', fontsize=14)\n",
        "    ax.set_title(title, fontsize=16)\n",
        "    ax.legend(loc='best', fontsize=16);"
      ],
      "metadata": {
        "id": "Cav-wQbayumE"
      },
      "execution_count": null,
      "outputs": []
    },
    {
      "cell_type": "code",
      "source": [
        "line_plot(train[target_col], test[target_col], 'training', 'test', title='')\n"
      ],
      "metadata": {
        "colab": {
          "base_uri": "https://localhost:8080/",
          "height": 439
        },
        "id": "ho3EW2sLyx0e",
        "outputId": "4396a080-1d31-45e0-c0de-2264907e8c1e"
      },
      "execution_count": null,
      "outputs": [
        {
          "output_type": "display_data",
          "data": {
            "text/plain": [
              "<Figure size 936x504 with 1 Axes>"
            ],
            "image/png": "[encoded data removed]"
          },
          "metadata": {
            "needs_background": "light"
          }
        }
      ]
    },
    {
      "cell_type": "code",
      "source": [
        "def normalise_zero_base(df):\n",
        "    return df / df.iloc[0] - 1\n",
        "\n",
        "def normalise_min_max(df):\n",
        "    return (df - df.min()) / (data.max() - df.min())"
      ],
      "metadata": {
        "id": "Ztoz4DKBy9tr"
      },
      "execution_count": null,
      "outputs": []
    },
    {
      "cell_type": "code",
      "source": [
        "def extract_window_data(df, window_len=5, zero_base=True):\n",
        "    window_data = []\n",
        "    for idx in range(len(df) - window_len):\n",
        "        tmp = df[idx: (idx + window_len)].copy()\n",
        "        if zero_base:\n",
        "            tmp = normalise_zero_base(tmp)\n",
        "        window_data.append(tmp.values)\n",
        "    return np.array(window_data)"
      ],
      "metadata": {
        "id": "szNirJ_36B04"
      },
      "execution_count": null,
      "outputs": []
    },
    {
      "cell_type": "code",
      "source": [
        "def prepare_data(df, target_col, window_len=10, zero_base=True, test_size=0.2):\n",
        "    train_data, test_data = train_test_split(df, test_size=test_size)\n",
        "    X_train = extract_window_data(train_data, window_len, zero_base)\n",
        "    X_test = extract_window_data(test_data, window_len, zero_base)\n",
        "    y_train = train_data[target_col][window_len:].values\n",
        "    y_test = test_data[target_col][window_len:].values\n",
        "    if zero_base:\n",
        "        y_train = y_train / train_data[target_col][:-window_len].values - 1\n",
        "        y_test = y_test / test_data[target_col][:-window_len].values - 1\n",
        "\n",
        "    return train_data, test_data, X_train, X_test, y_train, y_test"
      ],
      "metadata": {
        "id": "gxkgHF6-xQfi"
      },
      "execution_count": null,
      "outputs": []
    },
    {
      "cell_type": "code",
      "source": [
        "def build_lstm_model(input_data, output_size, neurons=100, activ_func='linear', dropout=0.2, loss='mse', optimizer='adam'):\n",
        "    model = Sequential()\n",
        "    model.add(LSTM(neurons, input_shape=(input_data.shape[1], input_data.shape[2])))\n",
        "    model.add(Dropout(dropout))\n",
        "    model.add(Dense(units=output_size))\n",
        "    model.add(Activation(activ_func))\n",
        "    model.compile(loss=loss, optimizer=optimizer)\n",
        "    return model"
      ],
      "metadata": {
        "id": "C8352YVhxV6J"
      },
      "execution_count": null,
      "outputs": []
    },
    {
      "cell_type": "code",
      "source": [
        "np.random.seed(42)\n",
        "window_len = 5\n",
        "test_size = 0.2\n",
        "zero_base = True\n",
        "lstm_neurons = 100\n",
        "epochs = 20\n",
        "batch_size = 32\n",
        "loss = 'mse'\n",
        "dropout = 0.2\n",
        "optimizer = 'adam'"
      ],
      "metadata": {
        "id": "GkoPpQ0uxY1p"
      },
      "execution_count": null,
      "outputs": []
    },
    {
      "cell_type": "code",
      "source": [
        "train, test, X_train, X_test, y_train, y_test = prepare_data(hist, target_col, window_len=window_len, zero_base=zero_base, test_size=test_size)"
      ],
      "metadata": {
        "id": "BZ20cas8xb0B"
      },
      "execution_count": null,
      "outputs": []
    },
    {
      "cell_type": "code",
      "source": [
        "model = build_lstm_model(\n",
        "    X_train, output_size=1, neurons=lstm_neurons, dropout=dropout, loss=loss,\n",
        "    optimizer=optimizer)\n",
        "history = model.fit(\n",
        "    X_train, y_train, validation_data=(X_test, y_test), epochs=epochs, batch_size=batch_size, verbose=1, shuffle=True)"
      ],
      "metadata": {
        "colab": {
          "base_uri": "https://localhost:8080/"
        },
        "id": "R0tpuvfAzSWW",
        "outputId": "257fbbf7-6616-4aff-8d1a-2f7866c8bbf6"
      },
      "execution_count": null,
      "outputs": [
        {
          "output_type": "stream",
          "name": "stdout",
          "text": [
            "Epoch 1/20\n",
            "13/13 [==============================] - 3s 50ms/step - loss: 0.0124 - val_loss: 0.0404\n",
            "Epoch 2/20\n",
            "13/13 [==============================] - 0s 9ms/step - loss: 0.0098 - val_loss: 0.0631\n",
            "Epoch 3/20\n",
            "13/13 [==============================] - 0s 8ms/step - loss: 0.0083 - val_loss: 0.0694\n",
            "Epoch 4/20\n",
            "13/13 [==============================] - 0s 8ms/step - loss: 0.0086 - val_loss: 0.0374\n",
            "Epoch 5/20\n",
            "13/13 [==============================] - 0s 8ms/step - loss: 0.0083 - val_loss: 0.0797\n",
            "Epoch 6/20\n",
            "13/13 [==============================] - 0s 9ms/step - loss: 0.0084 - val_loss: 0.0556\n",
            "Epoch 7/20\n",
            "13/13 [==============================] - 0s 9ms/step - loss: 0.0074 - val_loss: 0.0594\n",
            "Epoch 8/20\n",
            "13/13 [==============================] - 0s 9ms/step - loss: 0.0077 - val_loss: 0.0302\n",
            "Epoch 9/20\n",
            "13/13 [==============================] - 0s 9ms/step - loss: 0.0072 - val_loss: 0.0249\n",
            "Epoch 10/20\n",
            "13/13 [==============================] - 0s 8ms/step - loss: 0.0072 - val_loss: 0.0348\n",
            "Epoch 11/20\n",
            "13/13 [==============================] - 0s 8ms/step - loss: 0.0074 - val_loss: 0.0355\n",
            "Epoch 12/20\n",
            "13/13 [==============================] - 0s 10ms/step - loss: 0.0074 - val_loss: 0.0363\n",
            "Epoch 13/20\n",
            "13/13 [==============================] - 0s 8ms/step - loss: 0.0068 - val_loss: 0.0287\n",
            "Epoch 14/20\n",
            "13/13 [==============================] - 0s 10ms/step - loss: 0.0073 - val_loss: 0.0317\n",
            "Epoch 15/20\n",
            "13/13 [==============================] - 0s 8ms/step - loss: 0.0068 - val_loss: 0.0226\n",
            "Epoch 16/20\n",
            "13/13 [==============================] - 0s 9ms/step - loss: 0.0070 - val_loss: 0.0236\n",
            "Epoch 17/20\n",
            "13/13 [==============================] - 0s 8ms/step - loss: 0.0068 - val_loss: 0.0248\n",
            "Epoch 18/20\n",
            "13/13 [==============================] - 0s 9ms/step - loss: 0.0067 - val_loss: 0.0195\n",
            "Epoch 19/20\n",
            "13/13 [==============================] - 0s 9ms/step - loss: 0.0069 - val_loss: 0.0206\n",
            "Epoch 20/20\n",
            "13/13 [==============================] - 0s 9ms/step - loss: 0.0067 - val_loss: 0.0205\n"
          ]
        }
      ]
    },
    {
      "cell_type": "code",
      "source": [
        "import matplotlib.pyplot as plt\n",
        "plt.plot(history.history['loss'],'r',linewidth=2, label='Train loss')\n",
        "plt.plot(history.history['val_loss'], 'g',linewidth=2, label='Validation loss')\n",
        "plt.title('LSTM')\n",
        "plt.xlabel('Epochs')\n",
        "plt.ylabel('MSE')\n",
        "plt.show()"
      ],
      "metadata": {
        "colab": {
          "base_uri": "https://localhost:8080/",
          "height": 295
        },
        "id": "Jfcbf3XGzZV9",
        "outputId": "4fc62cc8-6905-4c48-901b-15b35a7607eb"
      },
      "execution_count": null,
      "outputs": [
        {
          "output_type": "display_data",
          "data": {
            "text/plain": [
              "<Figure size 432x288 with 1 Axes>"
            ],
            "image/png": "[encoded data removed]"
          },
          "metadata": {
            "needs_background": "light"
          }
        }
      ]
    },
    {
      "cell_type": "code",
      "source": [
        "targets = test[target_col][window_len:]\n",
        "preds = model.predict(X_test).squeeze()\n",
        "mean_absolute_error(preds, y_test)"
      ],
      "metadata": {
        "colab": {
          "base_uri": "https://localhost:8080/"
        },
        "id": "8EMC1kVMzey-",
        "outputId": "7982fa09-74c4-44a1-f003-6d4aef7bd618"
      },
      "execution_count": null,
      "outputs": [
        {
          "output_type": "stream",
          "name": "stdout",
          "text": [
            "3/3 [==============================] - 0s 5ms/step\n"
          ]
        },
        {
          "output_type": "execute_result",
          "data": {
            "text/plain": [
              "0.0691351027886772"
            ]
          },
          "metadata": {},
          "execution_count": 17
        }
      ]
    },
    {
      "cell_type": "code",
      "source": [
        "from sklearn.metrics import mean_squared_error\n",
        "MAE=mean_squared_error(preds, y_test)\n",
        "MAE"
      ],
      "metadata": {
        "colab": {
          "base_uri": "https://localhost:8080/"
        },
        "id": "cn92xFh6zglO",
        "outputId": "65a10930-a9b0-4de1-a954-40f866ca37df"
      },
      "execution_count": null,
      "outputs": [
        {
          "output_type": "execute_result",
          "data": {
            "text/plain": [
              "0.020460234865871087"
            ]
          },
          "metadata": {},
          "execution_count": 18
        }
      ]
    },
    {
      "cell_type": "code",
      "source": [
        "from sklearn.metrics import r2_score\n",
        "R2=r2_score(y_test, preds)\n",
        "R2"
      ],
      "metadata": {
        "colab": {
          "base_uri": "https://localhost:8080/"
        },
        "id": "cxw4CXOizjI5",
        "outputId": "ebfcac12-53be-40c7-d8b8-587d5ec14a49"
      },
      "execution_count": null,
      "outputs": [
        {
          "output_type": "execute_result",
          "data": {
            "text/plain": [
              "-2.1894802654268135"
            ]
          },
          "metadata": {},
          "execution_count": 19
        }
      ]
    },
    {
      "cell_type": "code",
      "source": [
        "preds = test[target_col].values[:-window_len] * (preds + 1)\n",
        "preds = pd.Series(index=targets.index, data=preds)\n",
        "line_plot(targets, preds, 'actual', 'prediction', lw=3)"
      ],
      "metadata": {
        "colab": {
          "base_uri": "https://localhost:8080/",
          "height": 439
        },
        "id": "km-97Q8nzl6O",
        "outputId": "bcd23b50-274d-4b45-ddbc-7c96eaf814cf"
      },
      "execution_count": null,
      "outputs": [
        {
          "output_type": "display_data",
          "data": {
            "text/plain": [
              "<Figure size 936x504 with 1 Axes>"
            ],
            "image/png": "[encoded data removed]"
          },
          "metadata": {
            "needs_background": "light"
          }
        }
      ]
    }
  ]
}